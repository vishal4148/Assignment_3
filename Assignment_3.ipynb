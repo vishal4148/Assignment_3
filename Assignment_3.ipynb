{
 "cells": [
  {
   "cell_type": "markdown",
   "id": "3e6e6efc",
   "metadata": {},
   "source": [
    "# 1)Write a Python function to sum all the numbers in a list."
   ]
  },
  {
   "cell_type": "code",
   "execution_count": 16,
   "id": "6909c322",
   "metadata": {},
   "outputs": [],
   "source": [
    "def sum_all(list_of_no):\n",
    "    total_sum=0\n",
    "    for i in list_of_no:\n",
    "        total_sum += i\n",
    "    return total_sum\n",
    "    "
   ]
  },
  {
   "cell_type": "code",
   "execution_count": 18,
   "id": "534ce141",
   "metadata": {},
   "outputs": [
    {
     "name": "stdout",
     "output_type": "stream",
     "text": [
      "20\n"
     ]
    }
   ],
   "source": [
    "print(sum_all((8,2,3,0,7)))"
   ]
  },
  {
   "cell_type": "markdown",
   "id": "f6311ad0",
   "metadata": {},
   "source": [
    "### 2)Write a Python program to reverse a string"
   ]
  },
  {
   "cell_type": "code",
   "execution_count": 21,
   "id": "415c0d91",
   "metadata": {},
   "outputs": [],
   "source": [
    "def reverse_a_string(a):\n",
    "    if len(a)==0:\n",
    "        return a\n",
    "    else:\n",
    "        return reverse_a_string(a[1:])+a[0]"
   ]
  },
  {
   "cell_type": "code",
   "execution_count": 23,
   "id": "550dd2e5",
   "metadata": {},
   "outputs": [
    {
     "data": {
      "text/plain": [
       "'dcba4321'"
      ]
     },
     "execution_count": 23,
     "metadata": {},
     "output_type": "execute_result"
    }
   ],
   "source": [
    "reverse_a_string(\"1234abcd\")"
   ]
  },
  {
   "cell_type": "markdown",
   "id": "1e4699b8",
   "metadata": {},
   "source": [
    "### 3)Write a Python function that accepts a string and calculate the number of upper case letters and lower case letters."
   ]
  },
  {
   "cell_type": "code",
   "execution_count": 24,
   "id": "49b5a7c0",
   "metadata": {},
   "outputs": [
    {
     "name": "stdout",
     "output_type": "stream",
     "text": [
      "enter the string : 'The quick Brow Fox'\n",
      "In string upper case is :\n",
      "3\n",
      "In string lower case is :\n",
      "12\n"
     ]
    }
   ],
   "source": [
    "enter_string=input('enter the string :')\n",
    "count_lower=0\n",
    "count_upper=0\n",
    "for i in enter_string:\n",
    "    if(i.islower()):\n",
    "        count_lower=count_lower+1\n",
    "    elif(i.isupper()):\n",
    "        count_upper=count_upper+1\n",
    "\n",
    "print(\"In string upper case is :\")\n",
    "print(count_upper)\n",
    "print(\"In string lower case is :\")\n",
    "print(count_lower)"
   ]
  },
  {
   "cell_type": "code",
   "execution_count": null,
   "id": "c580ec67",
   "metadata": {},
   "outputs": [],
   "source": []
  }
 ],
 "metadata": {
  "kernelspec": {
   "display_name": "Python 3 (ipykernel)",
   "language": "python",
   "name": "python3"
  },
  "language_info": {
   "codemirror_mode": {
    "name": "ipython",
    "version": 3
   },
   "file_extension": ".py",
   "mimetype": "text/x-python",
   "name": "python",
   "nbconvert_exporter": "python",
   "pygments_lexer": "ipython3",
   "version": "3.9.6"
  }
 },
 "nbformat": 4,
 "nbformat_minor": 5
}
